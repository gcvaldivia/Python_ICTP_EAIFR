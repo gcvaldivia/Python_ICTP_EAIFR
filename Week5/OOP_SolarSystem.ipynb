{
 "cells": [
  {
   "cell_type": "code",
   "execution_count": 1,
   "metadata": {},
   "outputs": [],
   "source": [
    "import numpy as np\n",
    "import matplotlib\n",
    "import matplotlib.pyplot as plt\n",
    "\n",
    "# The gravitational constant G\n",
    "G = 6.67428e-11\n",
    "AU = (149.6e6 * 1000)     # 149.6 million km, in meters."
   ]
  },
  {
   "cell_type": "markdown",
   "metadata": {},
   "source": [
    "## Example: Planetary Motion in the Solar System\n",
    "Today we will integrate the orbits of planets in the solar system interacting through gravity.\n",
    "\n",
    "In general, the gravitational force on object $j$ with mass $m_j$ and position $\\vec{r}_j$ through its gravitational interaction with objects $i$ with mass $m_i$ and position $\\vec{x}_i$ is given by\n",
    "$$\n",
    " \\vec F_j = -\\sum_{i\\ne j}\\frac{G m_j m_i}{|\\vec x_i - \\vec x_j|^2} \\times \\frac{\\left(\\vec x_i - \\vec x_j\\right)}{|\\vec x_i - \\vec x_j|}= m_j \\vec a_j \\tag{1}\\label{FG}\\,\n",
    "$$\n",
    "with the unit vector $\\hat{\\vec{x}} = \\frac{\\vec{x}}{|x|}$. _Note the direction of this force, gravity should pull two particles closer to each other! If that's not the case in your implementation, this is a good point to start..._\n",
    "\n",
    "Here are approximate initial values for the inner four planets [(ref)](https://www.cs.princeton.edu/courses/archive/fall16/cos126/assignments/nbody.html)\n",
    "\n",
    "Name |$p_x$ [m]|$p_y$ [m]|$v_x$ [m/s]| $v_y$ [m/s]| mass [kg]|\n",
    "---- | ---- | ---- |---- | ----| ----| \n",
    "Sun | 0.0000e+00 | 0.0000e+00 | 0.0000e+00 | 0.0000e+00 | 1.9890e+30\n",
    "Mercury | 5.7900e+10 | 0.0000e+00 | 0.0000e+00 | 4.7900e+04 | 3.3020e+23 \n",
    "Venus | 1.0820e+11 | 0.0000e+00 | 0.0000e+00 | 3.5000e+04 | 4.8690e+24\n",
    "Earth| 1.4960e+11 | 0.0000e+00 | 0.0000e+00 | 2.9800e+04 | 5.9740e+24\n",
    "Mars | 2.2790e+11 | 0.0000e+00 | 0.0000e+00 | 2.4100e+04 | 6.4190e+23     \n",
    "\n",
    "Even in this simple case, passing different vectors when integrating the equation of motion would turn out to be cumbersome. To make keeping track of different data easier, we will use __Classes__ today.\n",
    "\n",
    "We discussed Classes last week (`Week4/Python_OOP.ipynb`), but as a brief recap: Classes are a way of grouping related bits of information together into a single unit (also known as an object), along with functions that can be called to manipulate that object (also known as methods). For example, if you want to track information about a solar system body, you might want to record its name, mass, position, etc., and be able to manipulate all of these as a single unit.\n",
    "\n",
    "Before we start, it's important to understand the difference between a class and an object. A class is simply a description of what things should look like, what variables will be grouped together, and what functions can be called to manipulate those variables. Using this description, Python can then create many instances of the class (or objects), which can then be manipulated independently. "
   ]
  },
  {
   "cell_type": "markdown",
   "metadata": {},
   "source": [
    "### Defining a Python Class\n",
    "\n",
    "Let's start off by defining a simple class:"
   ]
  },
  {
   "cell_type": "code",
   "execution_count": 2,
   "metadata": {},
   "outputs": [],
   "source": [
    "class Foo (object):\n",
    "    def __init__(self, val):\n",
    "        self.val = val\n",
    "    def printVal(self):\n",
    "        print(self.val)"
   ]
  },
  {
   "cell_type": "markdown",
   "metadata": {},
   "source": [
    "The class is called Foo and as usual, we use indentation to tell Python where the class definition starts and ends. In this example, the class definition consists of two function definitions (or methods), one called ``__init__`` and the other ``printVal``. There is also one member variable, not explicitly defined, but we'll explain below how it gets created. Using this definition, we can then create many instances of the class.\n",
    "\n",
    "Both methods take a parameter called self. It doesn't have to be called self but this is the Python convention. Because we can create many instances of a class, when a class method is called, it needs to know which instance it is working with, and that's what Python will pass in via the self parameter.\n",
    "\n",
    "``__init__`` is a special method that is called whenever Python creates a new instance of the class. In our example, it accepts one parameter (other than the mandatory self), called ``val``, and takes a copy of it in a member variable, also called ``val``.  To differentiate between the val variable that was passed in as a parameter and the ``val`` class member variable, we prefix the latter with ``self``. So, in the statement\n",
    "\n",
    "``self.val = val``\n",
    "\n",
    "``self.val`` refers to the ``val`` member variable belonging to the class instance the method is being called for, while ``val`` refers to the parameter that was passed into the method.\n",
    "\n",
    "Let's take a look at a simple example:"
   ]
  },
  {
   "cell_type": "code",
   "execution_count": 3,
   "metadata": {},
   "outputs": [],
   "source": [
    "obj1 = Foo(1)"
   ]
  },
  {
   "cell_type": "markdown",
   "metadata": {},
   "source": [
    "This creates an instance of our class . Python automatically calls the ``__init__`` method for us, passing in the value we specified (1). \n",
    "\n",
    "Let's create another one:"
   ]
  },
  {
   "cell_type": "code",
   "execution_count": 4,
   "metadata": {},
   "outputs": [],
   "source": [
    "obj2 = Foo(2)"
   ]
  },
  {
   "cell_type": "markdown",
   "metadata": {},
   "source": [
    "Exactly the same thing happens, except that 2 gets passed in to the ``__init__`` method.\n",
    "We now have two independent objects, with different values for the ``val`` member variable.\n",
    "\n",
    "Here's a class ``Body`` that we'll use for solar system bodies in today's Problem:"
   ]
  },
  {
   "cell_type": "code",
   "execution_count": 1,
   "metadata": {},
   "outputs": [],
   "source": [
    "class Body(object):\n",
    "    \"\"\"Class representing a gravitationally-acting body, attributes for vVerlet integration\n",
    "\n",
    "    Attributes:\n",
    "        name : name of the body\n",
    "        mass : mass in kg\n",
    "        vx, vy: x, y velocities in m/s\n",
    "        px, py: x, y positions in m\n",
    "        ax, ay: acceleration \n",
    "        color: python color name (for plotting)\n",
    "    \"\"\"\n",
    "    def __init__(self):\n",
    "        self.name = 'Body'\n",
    "        self.mass = None\n",
    "        self.vx = self.vy = 0.0\n",
    "        self.px = self.py = 0.0\n",
    "        self.ax = self.ay = 0.0\n",
    "    def pairwise_attraction(self, other):\n",
    "        \"\"\"(Body): (Fx, Fy)\n",
    "\n",
    "        Returns the force exerted upon this body by the other body.\n",
    "        \"\"\"\n",
    "        # Report an error if the other object is the same as this one.\n",
    "        if self is other:\n",
    "            raise ValueError(\"Attraction of object %r to itself requested\"\n",
    "                             % self.name)\n",
    "\n",
    "        # Compute the distance of the other body.\n",
    "        r = np.array([other.px-self.px,other.py-self.py])\n",
    "        rr = np.sum(r*r)\n",
    "        rhat = r/np.sqrt(rr)\n",
    "        # Report an error if the distance is zero; otherwise we'll\n",
    "        # get a ZeroDivisionError exception further down.\n",
    "        if rr == 0:\n",
    "            raise ValueError(\"Collision between objects %r and %r\"\n",
    "                             % (self.name, other.name))\n",
    "\n",
    "        # Compute the force of attraction, Eq. 1\n",
    "        # this is a numpy array consisting of [F_x,F_y]\n",
    "        F = G * self.mass * other.mass / rr *rhat\n",
    "        return F[0], F[1]"
   ]
  },
  {
   "cell_type": "markdown",
   "metadata": {},
   "source": [
    "Let's create a few example instances already:"
   ]
  },
  {
   "cell_type": "code",
   "execution_count": 13,
   "metadata": {},
   "outputs": [],
   "source": [
    "    sun = Body()\n",
    "    sun.name = 'Sun'\n",
    "    sun.color = 'red'\n",
    "    sun.mass = 1.9890e+30\n",
    "\n",
    "    earth = Body()\n",
    "    earth.name = 'Earth'\n",
    "    earth.color = 'blue'\n",
    "    earth.mass = 5.9740e+24\n",
    "    earth.px = 1.4960e+11\n",
    "    earth.vy = 2.9800e+04\n",
    "\n",
    "    venus = Body()\n",
    "    venus.name = 'Venus'\n",
    "    venus.color = 'yellow'\n",
    "    venus.mass = 4.8685 * 10**24\n",
    "    venus.px = 1.0820e+11\n",
    "    venus.vy = 3.5000e+04"
   ]
  },
  {
   "cell_type": "code",
   "execution_count": 7,
   "metadata": {},
   "outputs": [],
   "source": [
    "def set_acceleration(bodies):\n",
    "    for body in bodies:\n",
    "    # Add up all of the forces exerted on 'body'.\n",
    "        total_fx = total_fy = 0.0\n",
    "        for other in bodies:\n",
    "            # Don't calculate the body's attraction to itself\n",
    "            if body is other:\n",
    "                continue\n",
    "            fx, fy = body.pairwise_attraction(other)\n",
    "            total_fx += fx\n",
    "            total_fy += fy\n",
    "        body.ax = total_fx/body.mass\n",
    "        body.ay = total_fy/body.mass"
   ]
  },
  {
   "cell_type": "code",
   "execution_count": 8,
   "metadata": {},
   "outputs": [],
   "source": [
    "def copy_acceleration(bodies):\n",
    "    \"\"\"Return a dictionary with current acceleration values for all bodies\n",
    "    Parameter:\n",
    "    bodies: list of Body instances\n",
    "    \n",
    "    Returns:\n",
    "    a_current: dictonary, with a_current[body] = (body.ax,body.ay)\n",
    "    \"\"\"\n",
    "    a_current ={}\n",
    "    for body in bodies:\n",
    "        a_current[body] = (body.ax, body.ay)\n",
    "    return a_current\n"
   ]
  },
  {
   "cell_type": "markdown",
   "metadata": {},
   "source": [
    "We will integrate orbits using the __velocity form__ of the Verlet algorithm\n",
    "\\begin{align}\n",
    "x_{n+1} &= x_n + v_n\\delta t + {1\\over 2}a_n h^2 + \\mathcal{O}(h^3) \\tag{2a}\\\\\n",
    "a_{n+1} &= a(x_{n+1}) \\label{eq:Vv}\\tag{2b}\\\\\n",
    "v_{n+1} &= v_n + {1\\over 2}\\left(a_n + a_{n+1}\\right)h + \\mathcal{O}(h^2).\\tag{2c}\n",
    "\\end{align}\n"
   ]
  },
  {
   "cell_type": "code",
   "execution_count": 9,
   "metadata": {},
   "outputs": [],
   "source": [
    "def vVerlet_Step(bodies,h):\n",
    "    \n",
    "    #implement velocity Verlet step here\n",
    "        \n",
    "    #copy the current acceleration of all bodies into dictionary a_current\n",
    "    #to access the x-acceleration of body: a_current[body][0]\n",
    "    #to access the y-acceleration of body: a_current[body][1]\n",
    "    a_current = copy_acceleration(bodies)\n",
    "        \n",
    "    #advance position (Equation 2a)\n",
    "\n",
    "    #now update acceleration based on new position (Equation 2b)\n",
    "    \n",
    "    #now body.ax/y contains acceleration based on updated position\n",
    "    #next, advance velocities (Equation 2c)\n"
   ]
  },
  {
   "cell_type": "code",
   "execution_count": 10,
   "metadata": {},
   "outputs": [],
   "source": [
    "def loop(bodies,years):\n",
    "    \"\"\"([Body])\n",
    "\n",
    "    loops through the simulation, updating the\n",
    "    positions of all the provided bodies.\n",
    "    \"\"\"\n",
    "    h = 24*3600  # One day\n",
    "    steps = years*365\n",
    "    trajectories = np.zeros((len(bodies),steps,2))\n",
    "    for n, body in enumerate(bodies):\n",
    "        trajectories[n,0] = np.array([body.px,body.py])/AU\n",
    "\n",
    "    #initialize acceleration\n",
    "    set_acceleration(bodies)\n",
    "    #acceleration base on current (initial) position in now in body.ax/y\n",
    "    for day in range(1,steps):\n",
    "        #take one Verlet step\n",
    "        vVerlet_Step(bodies,h)\n",
    "        \n",
    "        #save current configuration for visualization\n",
    "        for n, body in enumerate(bodies):\n",
    "            trajectories[n,day] = np.array([body.px,body.py])/AU\n",
    "\n",
    "    #visualize the trajectories\n",
    "    for n, body in enumerate(bodies):\n",
    "        print(\"%r shown in %r\"%(body.name,body.color))\n",
    "        plt.plot(trajectories[n,::10,0],trajectories[n,::10,1],color=body.color,marker = 'x',markersize = 2.5)\n",
    "    plt.xlabel(\"x [AU]\")\n",
    "    plt.ylabel(\"y [AU]\")\n",
    "    plt.show()\n",
    "\n",
    "def main(years = 1):\n",
    "\n",
    "    bodies =[sun,earth,venus]\n",
    "    loop(bodies,years)\n"
   ]
  },
  {
   "cell_type": "code",
   "execution_count": 11,
   "metadata": {},
   "outputs": [
    {
     "name": "stdout",
     "output_type": "stream",
     "text": [
      "'Sun' shown in 'red'\n",
      "'Earth' shown in 'blue'\n",
      "'Venus' shown in 'yellow'\n"
     ]
    },
    {
     "data": {
      "image/png": "[encoded data removed]",
      "text/plain": [
       "<Figure size 432x288 with 1 Axes>"
      ]
     },
     "metadata": {
      "needs_background": "light"
     },
     "output_type": "display_data"
    }
   ],
   "source": [
    "main()"
   ]
  },
  {
   "cell_type": "markdown",
   "metadata": {},
   "source": [
    "<span style=\"color:blue\"> If you like, you can add the Mars and Mercury!</span>"
   ]
  },
  {
   "cell_type": "code",
   "execution_count": null,
   "metadata": {},
   "outputs": [],
   "source": []
  }
 ],
 "metadata": {
  "kernelspec": {
   "display_name": "Python 3",
   "language": "python",
   "name": "python3"
  },
  "language_info": {
   "codemirror_mode": {
    "name": "ipython",
    "version": 3
   },
   "file_extension": ".py",
   "mimetype": "text/x-python",
   "name": "python",
   "nbconvert_exporter": "python",
   "pygments_lexer": "ipython3",
   "version": "3.7.7"
  }
 },
 "nbformat": 4,
 "nbformat_minor": 4
}
