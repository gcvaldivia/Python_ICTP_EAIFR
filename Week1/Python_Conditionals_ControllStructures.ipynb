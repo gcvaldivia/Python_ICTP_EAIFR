{
 "cells": [
  {
   "cell_type": "markdown",
   "metadata": {},
   "source": [
    "*this notebook was adapted from Phys105A course notes at University of Arizona by Dr. Elisabeth Krause, Dr. Gurtina Besla and Dr. Phil Pinto, based on\n",
    " [course notes by Dr. Kate Follette](https://github.com/kfollette/ASTR200-Spring2017)*"
   ]
  },
  {
   "cell_type": "markdown",
   "metadata": {},
   "source": [
    "## Contents\n",
    "\n",
    "1. Conditional Statements\n",
    "2. While Loops\n",
    "3. For Loops\n",
    "4. Submitting Homework\n",
    "\n",
    "*** There are 4 exercises in Sections: 1.2, 1.5, 2.2 an 3.2 of this notebook.***\n"
   ]
  },
  {
   "cell_type": "markdown",
   "metadata": {},
   "source": [
    "# 1. Conditional Statements\n",
    "\n",
    "A conditional statement executes if a given boolean statement is true.\n",
    "The general syntax is \n",
    "\n",
    "`if BOOLEAN_EXPRESSION:`\n",
    "\n",
    "    STATEMENT\n",
    "\n",
    "\n",
    "## 1.1. Using Boolean Variables\n",
    "\n",
    "\n",
    "We will first define a boolean variable x and set as default it to be True"
   ]
  },
  {
   "cell_type": "code",
   "execution_count": null,
   "metadata": {},
   "outputs": [],
   "source": [
    "x = False"
   ]
  },
  {
   "cell_type": "markdown",
   "metadata": {},
   "source": [
    "Let's create a conditional statement, which, if true, completes an action that we specify."
   ]
  },
  {
   "cell_type": "code",
   "execution_count": null,
   "metadata": {},
   "outputs": [],
   "source": [
    "if x: \n",
    "    print(\"hello!\") "
   ]
  },
  {
   "cell_type": "markdown",
   "metadata": {},
   "source": [
    "Python uses indentation to define code blocks, instead of brackets. The standard Python indentation is 4 spaces, although tabs and any other space size will work, as long as it is consistent. Notice that code blocks do not need any termination.\n"
   ]
  },
  {
   "cell_type": "markdown",
   "metadata": {},
   "source": [
    "Change the value of x to False and try the above line again.\n",
    "\n",
    "Nothing happens - we need to give the statement an alternative that captures all the other possibile values of x: `else`. "
   ]
  },
  {
   "cell_type": "code",
   "execution_count": null,
   "metadata": {},
   "outputs": [],
   "source": [
    "if x: \n",
    "    print(\"hello!\")\n",
    "else: \n",
    "    print(\"oops!\")"
   ]
  },
  {
   "cell_type": "markdown",
   "metadata": {},
   "source": [
    "## 1.2 Comparison Operators\n",
    "\n",
    "`==`   Equals to\n",
    "\n",
    "`!=`   Not equal to\n",
    "\n",
    "`<`   Less than\n",
    "\n",
    "`>`  Greater than\n",
    "\n",
    "`<=`  Less than or equal to\n",
    "\n",
    "`>=` Greater than or equal to\n"
   ]
  },
  {
   "cell_type": "code",
   "execution_count": null,
   "metadata": {},
   "outputs": [],
   "source": [
    "x = 2"
   ]
  },
  {
   "cell_type": "code",
   "execution_count": null,
   "metadata": {},
   "outputs": [],
   "source": [
    "print(x==2)"
   ]
  },
  {
   "cell_type": "code",
   "execution_count": null,
   "metadata": {},
   "outputs": [],
   "source": [
    "print(x==3)"
   ]
  },
  {
   "cell_type": "code",
   "execution_count": null,
   "metadata": {},
   "outputs": [],
   "source": [
    "print(x!=2)"
   ]
  },
  {
   "cell_type": "code",
   "execution_count": null,
   "metadata": {},
   "outputs": [],
   "source": [
    "print(x<4)"
   ]
  },
  {
   "cell_type": "code",
   "execution_count": null,
   "metadata": {},
   "outputs": [],
   "source": [
    "print(x>=2)"
   ]
  },
  {
   "cell_type": "markdown",
   "metadata": {},
   "source": [
    "Python uses boolean variables to evaluate conditions. The boolean values True and False are returned when an expression is compared or evaluated."
   ]
  },
  {
   "cell_type": "code",
   "execution_count": null,
   "metadata": {},
   "outputs": [],
   "source": [
    "if x==2: \n",
    "    print(x)"
   ]
  },
  {
   "cell_type": "markdown",
   "metadata": {},
   "source": [
    "### Exercise 1\n",
    "\n",
    "Define a variable called `y` and set it to any integer you like.\n",
    "\n",
    "Write code representing the following conditional statement: \n",
    "\n",
    "if y is `less than or equal` to 10, print a string of your choosing to the screen.\n",
    "\n",
    "else, if this condition fails, print a different string of your choosing to the screen."
   ]
  },
  {
   "cell_type": "code",
   "execution_count": null,
   "metadata": {},
   "outputs": [],
   "source": []
  },
  {
   "cell_type": "markdown",
   "metadata": {},
   "source": [
    "## 1.3 Combining Multiple conditions\n",
    "\n",
    "Truth Tables:\n",
    "\n",
    "True `and` True = True\n",
    "\n",
    "True `and` False = False\n",
    "\n",
    "False `and` False = False\n",
    "\n",
    "True `or` False = True "
   ]
  },
  {
   "cell_type": "code",
   "execution_count": null,
   "metadata": {},
   "outputs": [],
   "source": [
    "z = 2"
   ]
  },
  {
   "cell_type": "code",
   "execution_count": null,
   "metadata": {},
   "outputs": [],
   "source": [
    "\n",
    "# True and True\n",
    "z < 4 and z > 1"
   ]
  },
  {
   "cell_type": "code",
   "execution_count": null,
   "metadata": {},
   "outputs": [],
   "source": [
    "# True and True = True\n",
    "\n",
    "if z < 4 and z > 1:\n",
    "    print (\"True and True\")\n",
    "else: \n",
    "    print (\"At least one is false\")"
   ]
  },
  {
   "cell_type": "code",
   "execution_count": null,
   "metadata": {},
   "outputs": [],
   "source": [
    "zz = 10"
   ]
  },
  {
   "cell_type": "code",
   "execution_count": null,
   "metadata": {},
   "outputs": [],
   "source": [
    "z == 2 or zz == 7"
   ]
  },
  {
   "cell_type": "code",
   "execution_count": null,
   "metadata": {},
   "outputs": [],
   "source": [
    "# True or False\n",
    "\n",
    "if zz == 2 or zz == 5:\n",
    "    print (\"True or False or True or True\")\n",
    "else: \n",
    "    print (\"False or False\")"
   ]
  },
  {
   "cell_type": "markdown",
   "metadata": {},
   "source": [
    "## 1.4 Chained Conditionals\n",
    "\n",
    "\n",
    "You may have a case where you want one of many possible clauses to execute. The `elif` statement is an “else if” statement that always follows an `if` or another `elif` statement. It provides another condition that is checked only if the previous conditions were False. "
   ]
  },
  {
   "cell_type": "code",
   "execution_count": null,
   "metadata": {},
   "outputs": [],
   "source": [
    "xx = 5"
   ]
  },
  {
   "cell_type": "code",
   "execution_count": null,
   "metadata": {},
   "outputs": [],
   "source": [
    "if xx == 5:\n",
    "    print (\"variable is 5\")\n",
    "elif xx < 5 : \n",
    "    print (\"variable is less than 5\")\n",
    "else:\n",
    "    print (\"variable is neither 5 nor less than 5\")"
   ]
  },
  {
   "cell_type": "markdown",
   "metadata": {},
   "source": [
    "Nested if statements: after a conditional statement you can execute multiple other expressions or even additional conditional statements"
   ]
  },
  {
   "cell_type": "code",
   "execution_count": null,
   "metadata": {},
   "outputs": [],
   "source": [
    "name = 'Mary'\n",
    "password = 'swordfish'\n",
    "\n",
    "if name == 'Mary':\n",
    "    print('Hello Mary')\n",
    "    if password == 'swordfish': \n",
    "        print('Access granted.')  # notice the indentation here.\n",
    "    else:\n",
    "        print('Wrong password.')\n",
    "else:\n",
    "    print(\"Tough Luck!\")"
   ]
  },
  {
   "cell_type": "markdown",
   "metadata": {},
   "source": [
    "## 1.5  One line conditionals"
   ]
  },
  {
   "cell_type": "code",
   "execution_count": null,
   "metadata": {},
   "outputs": [],
   "source": [
    "x = 1"
   ]
  },
  {
   "cell_type": "code",
   "execution_count": null,
   "metadata": {},
   "outputs": [],
   "source": [
    "if x > 0:\n",
    "    print(\"yo\")\n",
    "else:\n",
    "    print(\"dude\")"
   ]
  },
  {
   "cell_type": "code",
   "execution_count": null,
   "metadata": {},
   "outputs": [],
   "source": [
    "# the one line version\n",
    "print(\"yo\") if x > 0 else print(\"dude\")"
   ]
  },
  {
   "cell_type": "markdown",
   "metadata": {},
   "source": [
    "### Exercise 2.\n",
    "\n",
    "Define two variables, `x` and `y`, and set them to any integers you want.\n",
    "\n",
    "Write a set of chained conditional statements that correspond to this flow chart. Diamonds correspond to the conditional statement.   \n",
    "\n",
    "In place of the rectangular statements, print a string of the condition that was satistfied.\n",
    "\n",
    "For example, if the diamond stated `x == y` then the print statement would be:\n",
    "\n",
    "print(str(x) + `\"==\"`  + str(y))\n",
    "\n",
    "![Flow chart](http://www.openbookproject.net/books/bpp4awd/_images/flowchart_nested_conditional.png)"
   ]
  },
  {
   "cell_type": "markdown",
   "metadata": {},
   "source": [
    "# 2.  While Loops\n",
    "\n",
    "\n",
    "In computer programming, a loop is a sequence of instructions that is continually repeated until a certain condition is reached. \n",
    "\n",
    "For example, on an airplane we might want to check repeatedly that all conditions are fine and do something different if things are not fine ...\n",
    "\n",
    "`While` loops repeat as long as a certain boolean condition is still true. \n",
    "\n",
    "The genereal syntax is :\n",
    "\n",
    "`while BOOLEAN_EXPRESSION:`\n",
    "\n",
    "    STATEMENT\n"
   ]
  },
  {
   "cell_type": "markdown",
   "metadata": {},
   "source": [
    "## 2.1 Counters\n",
    "\n",
    "The body of the loop should change the value of one or more variables so that eventually the condition becomes false and the loop terminates. Otherwise the loop will repeat forever, which is called an infinite loop.\n",
    "\n",
    "The most common example utilizes a counter, which is an integer that increments by 1 each time the loop executes.\n",
    "\n",
    "For example:"
   ]
  },
  {
   "cell_type": "code",
   "execution_count": null,
   "metadata": {},
   "outputs": [],
   "source": [
    "count = 0\n",
    "while count < 5:\n",
    "    print(count)\n",
    "    count += 1  # This is the same as count = count + 1"
   ]
  },
  {
   "cell_type": "markdown",
   "metadata": {},
   "source": [
    "## 2.2 While Loops and Conditionals"
   ]
  },
  {
   "cell_type": "code",
   "execution_count": null,
   "metadata": {},
   "outputs": [],
   "source": [
    "Lithium = True\n",
    "electrons = 0"
   ]
  },
  {
   "cell_type": "code",
   "execution_count": null,
   "metadata": {},
   "outputs": [],
   "source": [
    "while Lithium:\n",
    "    electrons += 1\n",
    "    if electrons > 2:\n",
    "        print(electrons)\n",
    "        Lithium = False"
   ]
  },
  {
   "cell_type": "code",
   "execution_count": null,
   "metadata": {},
   "outputs": [],
   "source": [
    "m = 1\n",
    "n = 0"
   ]
  },
  {
   "cell_type": "code",
   "execution_count": null,
   "metadata": {},
   "outputs": [],
   "source": [
    "while n < 10:\n",
    "    print(\"planets\" if m > 0 else \"stars\")\n",
    "    m *= -1\n",
    "    n += 1"
   ]
  },
  {
   "cell_type": "markdown",
   "metadata": {},
   "source": [
    "### Exercise 3\n",
    "\n",
    "Copy the while loop above into a code cell and add print statements that print the variables `m` and `n` so that you can see their values at each step. Use the output to figure out what the statements m *= -1 and n += 1 are doing. \n",
    "\n",
    "Type an explanation of what they do into a markdown cell"
   ]
  },
  {
   "cell_type": "markdown",
   "metadata": {},
   "source": [
    "# 3. For Loops\n",
    "\n",
    "\n",
    "`For` loops iterate a given number of times. The general syntax:\n",
    "\n",
    "`for RANGE:`\n",
    "\n",
    "    STATEMENT"
   ]
  },
  {
   "cell_type": "markdown",
   "metadata": {},
   "source": [
    "## 3.1  Loops over a range of integers\n",
    "\n",
    "For loops can iterate over a sequence of numbers using the `range(n)` function, which generates \n",
    "a list of integers from `0` to `n-1`, with stepsize = 1.\n",
    "\n",
    "Note: in python indexes start at `0` rather than `1`"
   ]
  },
  {
   "cell_type": "code",
   "execution_count": null,
   "metadata": {},
   "outputs": [],
   "source": [
    "for i in range(5):\n",
    "    print('i is now:', i)"
   ]
  },
  {
   "cell_type": "markdown",
   "metadata": {},
   "source": [
    "You can also specify the starting point for the `range` function. "
   ]
  },
  {
   "cell_type": "code",
   "execution_count": null,
   "metadata": {
    "scrolled": true
   },
   "outputs": [],
   "source": [
    "for i in range(3, 8):\n",
    "    print(i)"
   ]
  },
  {
   "cell_type": "markdown",
   "metadata": {},
   "source": [
    "And you can specify the stepsize used to set the values in `range` (default is +1)"
   ]
  },
  {
   "cell_type": "code",
   "execution_count": null,
   "metadata": {},
   "outputs": [],
   "source": [
    "for i in range(3, 8, 2):\n",
    "    print(i)"
   ]
  },
  {
   "cell_type": "code",
   "execution_count": null,
   "metadata": {},
   "outputs": [],
   "source": [
    "for i in range(0,8,2):\n",
    "    print(i)"
   ]
  },
  {
   "cell_type": "markdown",
   "metadata": {},
   "source": [
    "## 3.2 Loops over lists\n",
    "\n",
    "You can also loop over a list of names"
   ]
  },
  {
   "cell_type": "code",
   "execution_count": null,
   "metadata": {},
   "outputs": [],
   "source": [
    "countries = ['USA', 'CANADA', 'AUSTRALIA', 'RWANDA', 'GERMANY']"
   ]
  },
  {
   "cell_type": "code",
   "execution_count": null,
   "metadata": {},
   "outputs": [],
   "source": [
    "for i in countries:\n",
    "    print(i)"
   ]
  },
  {
   "cell_type": "markdown",
   "metadata": {},
   "source": [
    "Use a `for` loop if you know, before you start looping, the maximum number of times that you’ll need to execute the body:  `definite iteration`\n",
    "\n",
    "In contrast, if you are required to repeat some computation until some condition is met, and you cannot calculate in advance when this will happen, you’ll need a `while` loop: `indefinite iteration`"
   ]
  },
  {
   "cell_type": "markdown",
   "metadata": {},
   "source": [
    "### Exercise 4.\n",
    "\n",
    "a. Create a `for` loop using the `range` function (looping from 0 to 10). Each time the loop executes, print the square of the value of `range`.\n"
   ]
  },
  {
   "cell_type": "code",
   "execution_count": null,
   "metadata": {},
   "outputs": [],
   "source": []
  },
  {
   "cell_type": "markdown",
   "metadata": {},
   "source": [
    "b. Create a `for` loop that prints the numbers from 1 to 50. But for multiples of three print “Fizz” instead of the number and for the multiples of five print “Buzz”. For numbers which are multiples of both three and five print “FizzBuzz” instead of the number. A special python operator called modulo that is represented with the `%` sign might help you. A couple of examples of its use are below. See if you can figure out what it does by experimenting."
   ]
  },
  {
   "cell_type": "code",
   "execution_count": null,
   "metadata": {},
   "outputs": [],
   "source": [
    "9 % 3"
   ]
  },
  {
   "cell_type": "code",
   "execution_count": null,
   "metadata": {},
   "outputs": [],
   "source": [
    "5 % 3"
   ]
  },
  {
   "cell_type": "code",
   "execution_count": null,
   "metadata": {},
   "outputs": [],
   "source": []
  },
  {
   "cell_type": "markdown",
   "metadata": {},
   "source": [
    "## Extra Exercise\n",
    "\n",
    "Create an algorithm that determines the total number of prime numbers up to 1000.\n",
    "You will need two `for loops`\n",
    "\n",
    "\n"
   ]
  },
  {
   "cell_type": "markdown",
   "metadata": {},
   "source": [
    "## Read Chapter 6.1 in the textbook"
   ]
  },
  {
   "cell_type": "code",
   "execution_count": null,
   "metadata": {},
   "outputs": [],
   "source": []
  }
 ],
 "metadata": {
  "kernelspec": {
   "display_name": "Python 3",
   "language": "python",
   "name": "python3"
  },
  "language_info": {
   "codemirror_mode": {
    "name": "ipython",
    "version": 3
   },
   "file_extension": ".py",
   "mimetype": "text/x-python",
   "name": "python",
   "nbconvert_exporter": "python",
   "pygments_lexer": "ipython3",
   "version": "3.7.7"
  }
 },
 "nbformat": 4,
 "nbformat_minor": 2
}
