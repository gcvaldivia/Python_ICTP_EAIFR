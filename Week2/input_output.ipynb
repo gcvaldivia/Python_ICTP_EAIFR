{
 "cells": [
  {
   "cell_type": "markdown",
   "metadata": {},
   "source": [
    "*this notebook is based on Phys105A course notes at University of Arizona by Dr. Elisabeth Krause,course notes by Dr. Gurtina Besla and Dr. Phil Pinto*"
   ]
  },
  {
   "cell_type": "markdown",
   "metadata": {},
   "source": [
    "## Contents\n",
    "\n",
    "1. Review of input/output from/to the terminal \n",
    "2. String formatting & other string operations\n",
    "3. File I/O\n",
    "\n",
    "** There are 4 exercises for you to practice **"
   ]
  },
  {
   "cell_type": "markdown",
   "metadata": {},
   "source": [
    "# 1.  Review of Terminal I/O\n",
    "\n",
    "In past lectures, we have covered how to get input from the keyboard and how to write to the screen.\n",
    "Here is a brief review:"
   ]
  },
  {
   "cell_type": "markdown",
   "metadata": {},
   "source": [
    "The `input` function allows us to print some prompt text to the screen and then capture what is\n",
    "typed, up to a newline character (generated when you press the enter key)\n",
    "\n",
    "Execute the following line, and follow the instructions to enter an integer:"
   ]
  },
  {
   "cell_type": "code",
   "execution_count": null,
   "metadata": {},
   "outputs": [],
   "source": [
    "value  = input(\"enter an integer: \")\n",
    "value"
   ]
  },
  {
   "cell_type": "markdown",
   "metadata": {},
   "source": [
    "Note that when we printed out the value, it was surrounded by quotation marks -- it was a string.\n",
    "This is the single most important thing to remember about I/O:\n",
    "\n",
    "*All I/O is done using strings*\n",
    "\n",
    "(There is of course an exception, known as binary I/O, but ignore this for now...)\n",
    "\n",
    "Whenever you read or write from the terminal or, soon, from a file, you are readind and writing text -- a stream of\n",
    "characters. We can instruct Python to interpret this text in a variety of ways, but the immediate objects we read and write will always be character strings.\n",
    "\n",
    "What if we want a Python `int` instead of a character string? We need to convert the string into an `int`:"
   ]
  },
  {
   "cell_type": "code",
   "execution_count": null,
   "metadata": {},
   "outputs": [],
   "source": [
    "instring  = input(\"enter an integer: \")\n",
    "value = int(instring)\n",
    "value"
   ]
  },
  {
   "cell_type": "markdown",
   "metadata": {},
   "source": [
    "(Go back and try entering something which is not an integer and see what happens...)"
   ]
  },
  {
   "cell_type": "markdown",
   "metadata": {},
   "source": [
    "Just as for input, we can only output strings. For output, the `print` function assists us in converting other kinds of objects to strings:"
   ]
  },
  {
   "cell_type": "code",
   "execution_count": null,
   "metadata": {},
   "outputs": [],
   "source": [
    "ival = 42\n",
    "fval = 42e18\n",
    "sval = 'a bona fide string'\n",
    "\n",
    "print(ival, fval, sval)"
   ]
  },
  {
   "cell_type": "markdown",
   "metadata": {},
   "source": [
    "In fact, we already know how to make a string from other kinds of objects"
   ]
  },
  {
   "cell_type": "code",
   "execution_count": null,
   "metadata": {},
   "outputs": [],
   "source": [
    "outstring = f\"{ival} {fval} {sval}\"\n",
    "outstring"
   ]
  },
  {
   "cell_type": "markdown",
   "metadata": {},
   "source": [
    "and we can then print this string to obtain the same output as before"
   ]
  },
  {
   "cell_type": "code",
   "execution_count": null,
   "metadata": {},
   "outputs": [],
   "source": [
    "print(outstring)"
   ]
  },
  {
   "cell_type": "markdown",
   "metadata": {},
   "source": [
    "# 2. String Formatting \n",
    "\n",
    "Python provides for some finer-grained control of how various objects appear when they are converted to strings, which we will illustrate using f-strings\n",
    "\n",
    "For example, let's create a list of strings and print it out:"
   ]
  },
  {
   "cell_type": "code",
   "execution_count": null,
   "metadata": {},
   "outputs": [],
   "source": [
    "strings = ['short', 'very very very long', 'in between']\n",
    "\n",
    "for line in strings:\n",
    "    print(f\"'{line}' has {len(line)} characters\")"
   ]
  },
  {
   "cell_type": "markdown",
   "metadata": {},
   "source": [
    "We can reformat this by allowing a fixed column width for the strings themselves"
   ]
  },
  {
   "cell_type": "code",
   "execution_count": null,
   "metadata": {},
   "outputs": [],
   "source": [
    "for line in strings:\n",
    "    print(f\"'{line:20s}' has {len(line)} characters\")"
   ]
  },
  {
   "cell_type": "markdown",
   "metadata": {},
   "source": [
    "We can also make a fixed column width for the integer value:"
   ]
  },
  {
   "cell_type": "code",
   "execution_count": null,
   "metadata": {},
   "outputs": [],
   "source": [
    "for line in strings:\n",
    "    print(f\"'{line:20s}' has {len(line):2d} characters\")"
   ]
  },
  {
   "cell_type": "markdown",
   "metadata": {},
   "source": [
    "Now try an example with `float`s and `int`s:"
   ]
  },
  {
   "cell_type": "code",
   "execution_count": null,
   "metadata": {},
   "outputs": [],
   "source": [
    "from math import sqrt\n",
    "for i in range(6):\n",
    "    ival = 10**i\n",
    "    fval = sqrt(ival)\n",
    "    sval = \"as a string \" + str(fval)\n",
    "    print(f\"{ival}  {fval}  {fval}  {sval}\")"
   ]
  },
  {
   "cell_type": "markdown",
   "metadata": {},
   "source": [
    "This is not particularly easy to read! We can do better...\n",
    "\n",
    "To format a particular object type, withing the curly braces you place the variable name, then a colon, and then a width, followed by the way in which you want to format the object:  \n",
    "    `s` for string  \n",
    "    `d` for decimal (integer)  \n",
    "    `f` for float      \n",
    "    `e` for exponential (scientific notation)  \n"
   ]
  },
  {
   "cell_type": "code",
   "execution_count": null,
   "metadata": {},
   "outputs": [],
   "source": [
    "for i in range(6):\n",
    "    ival = 10**i\n",
    "    fval = sqrt(ival)\n",
    "    sval = \"as a string \" + str(fval)\n",
    "    print(f\"{ival:7d}  {fval:7.3f}  {fval:11.3e}  {sval}\")"
   ]
  },
  {
   "cell_type": "markdown",
   "metadata": {},
   "source": [
    "As you can see from this example, when formatting float variables, you need to specify the width as w.d, where\n",
    "w is the total width in characters you want the resulting string to fill, and d is the number of decimal places desired.\n",
    "\n",
    "For the `e` specifier, don't forget to count the exponent part; the numbers above have 3 decimal places, and 6 other characters, for a total width of 9 -- since we asked for 11, we get two extra spaces in front.\n",
    "\n",
    "Formatting for negative numbers has an additional twist... Let's make some of the numbers negative"
   ]
  },
  {
   "cell_type": "code",
   "execution_count": null,
   "metadata": {},
   "outputs": [],
   "source": [
    "for i in range(6):\n",
    "    ival = 10**i\n",
    "    fval = sqrt(ival)\n",
    "    if i%2==0:\n",
    "        fval *= -1\n",
    "    sval = \"as a string \" + str(fval)\n",
    "    print(f\"{ival:7d}  {fval:7.3f}  {fval:11.3e}  {sval}\")"
   ]
  },
  {
   "cell_type": "markdown",
   "metadata": {},
   "source": [
    "This negative signs have spoiled the nice formatting! Tof fix this, and allow for the negative sign to line up appropriately, add a space between the colon and the width (and increase the width where necessary)"
   ]
  },
  {
   "cell_type": "code",
   "execution_count": null,
   "metadata": {},
   "outputs": [],
   "source": [
    "for i in range(6):\n",
    "    ival = 10**i\n",
    "    fval = sqrt(ival)\n",
    "    if i%2==0:\n",
    "        fval *= -1\n",
    "    sval = \"as a string \" + str(fval)\n",
    "    print(f\"{ival: 7d}  {fval: 8.3f}  {fval: 11.3e}  {sval}\")"
   ]
  },
  {
   "cell_type": "markdown",
   "metadata": {},
   "source": [
    "If you want to, you can add leading zeros to the decimal formatting by adding a leading zero to the width (believe me, sometimes this is useful...)"
   ]
  },
  {
   "cell_type": "code",
   "execution_count": null,
   "metadata": {},
   "outputs": [],
   "source": [
    "for i in range(8):\n",
    "    ival = 10**(i-i%2)\n",
    "    print(f\"{ival:07d}\")"
   ]
  },
  {
   "cell_type": "markdown",
   "metadata": {},
   "source": [
    "You can right-justify a format by putting `>` after the colon, and left-justify with a `<`:"
   ]
  },
  {
   "cell_type": "code",
   "execution_count": null,
   "metadata": {},
   "outputs": [],
   "source": [
    "for i in range(6):\n",
    "    ival = 10**i\n",
    "    fval = sqrt(ival)\n",
    "    if i%2==0:\n",
    "        fval *= -1\n",
    "    sval = \"as a string \" + str(fval)\n",
    "    print(f\"{ival:<7d}  {fval:< 8.3f}  {fval: 11.3e}  {sval:>30s}\")"
   ]
  },
  {
   "cell_type": "markdown",
   "metadata": {},
   "source": [
    "## Exercise 1\n",
    "\n",
    "Practice with formatting output:\n",
    "\n",
    "a) Create a list of 16 floats by taking $\\pi^n$ for $n=0,..,15$ (use a list comprehension). Print a table where  \n",
    "* There is a \"header line\" putting names above each column, right-justified so that they line up with the values below\n",
    "* the first column is the power $n$, right-justified  \n",
    "* the second column is the numbers of the list formatted as a float with seven decimal places and enough room left over to look nice  \n",
    "* the third column is the same number formatted in scientific notation, with seven decimal places and enough extra room to look nice\n",
    "\n",
    "Your table should look like:  \n",
    "\n",
    "         n         pi**n (f)      pi**n (e) \n",
    "         0         1.0000000  1.0000000e+00  \n",
    "         1         3.1415927  3.1415927e+00  \n",
    "         2         9.8696044  9.8696044e+00  \n",
    "         3        31.0062767  3.1006277e+01  \n",
    "         4        97.4090910  9.7409091e+01  \n",
    "         5       306.0196848  3.0601968e+02  \n",
    "         6       961.3891936  9.6138919e+02  \n",
    "         7      3020.2932278  3.0202932e+03  \n",
    "         8      9488.5310161  9.4885310e+03  \n",
    "         9     29809.0993334  2.9809099e+04  \n",
    "        10     93648.0474761  9.3648047e+04  \n",
    "        11    294204.0179739  2.9420402e+05  \n",
    "        12    924269.1815234  9.2426918e+05  \n",
    "        13   2903677.2706133  2.9036773e+06  \n",
    "        14   9122171.1817543  9.1221712e+06  \n",
    "        15  28658145.9693880  2.8658146e+07  \n",
    "\n",
    "***Hint:*** for the header, you can either:  \n",
    "\n",
    "a) just print one long string with the correct spacing, like\n",
    "\n",
    "    print(\"      name               address\")\n",
    "\n",
    "My favorite way to do this is to write code to produce the rest of the table first, then add a line to\n",
    "print the header and fiddle with it until it looks right  \n",
    "\n",
    "or  \n",
    "\n",
    "b) use the string formatting cababilities to write three strings which are right-justified and have the same widths you used when printing out the table. For example, to write two headers, one 10 characters long and one 20 characters long, with two spaces in-between,\n",
    "you could write  \n",
    "\n",
    "    print(f\"{'name':>10s}  {'address':>20s}\")\n",
    "    \n",
    "which would produce the output\n",
    "\n",
    "          name               address  \n",
    "    | - ten -|  |----- twenty -----|"
   ]
  },
  {
   "cell_type": "code",
   "execution_count": null,
   "metadata": {},
   "outputs": [],
   "source": [
    "# if formatting is weird pick a larger column width\n",
    "from math import pi\n"
   ]
  },
  {
   "cell_type": "markdown",
   "metadata": {},
   "source": [
    "### Manipulating Strings\n",
    "\n",
    "When we get input, whether it be a line from the `input` function or (below) a line from a file, the input is in the form of a single string -- the entire line. Often we will need to split the string into pieces.\n",
    "\n",
    "To split a string into segments based on a character in the string, we can use the `split` method supplied by the `str` object.\n",
    "\n",
    "For example"
   ]
  },
  {
   "cell_type": "code",
   "execution_count": null,
   "metadata": {},
   "outputs": [],
   "source": [
    "line = input('enter two integers: ')\n",
    "print(f\"the string returned from input was '{line}'\")\n",
    "s = line.split(' ') # split on spaces; makes a list\n",
    "print(f\"the split string is: {s}\")\n",
    "\n",
    "n1 = int(s[0])\n",
    "n2 = int(s[1])\n",
    "print(f\"The numbers were {n1} and {n2}\")"
   ]
  },
  {
   "cell_type": "markdown",
   "metadata": {},
   "source": [
    "We can split on any character we want. For example, the output from spreadsheets is often in a CSV file -- with comma separated values.\n",
    "\n",
    "Thus, a list of people might look like"
   ]
  },
  {
   "cell_type": "code",
   "execution_count": null,
   "metadata": {},
   "outputs": [],
   "source": [
    "people = ['    Rubin,             Vera,    1928 , Philadelphia,      USA  ,    astronomer  ', \n",
    "          '    Tudor,    Elizabeth (I),    1533 ,    Greenwich,  England  ,         queen  ',\n",
    "          '  Noether,      Amalie Emmy,    1882 ,     Erlangen,  Germany  , mathematician  ',\n",
    "          ',                 Aristotle,    -384 ,      Stagira,   Greece  ,   philosopher  ',\n",
    "          'Philopator, Cleopatra (VII),     -12 ,   Alexandria,    Egypt  ,       pharaoh  ']"
   ]
  },
  {
   "cell_type": "code",
   "execution_count": null,
   "metadata": {},
   "outputs": [],
   "source": [
    "for who in people:\n",
    "    last, first, dob, city, country, profession = who.split(',')           # split on commas\n",
    "    ago = 2019 - int(dob)\n",
    "    print(f\"{first} {last}, {profession}, was born in {country} {ago} years ago\") "
   ]
  },
  {
   "cell_type": "markdown",
   "metadata": {},
   "source": [
    "Here, even though the `split` function returned a list of length 6, if we provide six variable on the left-hand side,\n",
    "they will be filled with the elements of the list.\n",
    "\n",
    "The formatting at the end doesn't look very good, however, because the country entries all have various extra spaces at the beginning or end. We can strip these off using the `strip` method, which removes the specified characters from the beginning and end of a string (the default is white space).\n",
    "\n",
    "Let's do this for the country field:"
   ]
  },
  {
   "cell_type": "code",
   "execution_count": null,
   "metadata": {},
   "outputs": [],
   "source": [
    "for who in people:\n",
    "    last, first, dob, city, country, profession = who.split(',')             # split on commas\n",
    "    ago = 2019 - int(dob)\n",
    "    country = country.strip()                                         # strip off whitespace (the default)\n",
    "    print(f\"{first} {last}, {profession}, was born in {country} {2019-int(dob)} years ago\") "
   ]
  },
  {
   "cell_type": "markdown",
   "metadata": {},
   "source": [
    "### Exercise 2\n",
    "\n",
    "a) Starting with the previous example, strip the spaces off all of the fields and include the city of birth in addition to the country. The result should look like  \n",
    "\n",
    "    Vera Rubin, astronomer, was born in Philadelphia, USA 91 years ago.\n",
    "    Elizabeth (I) Tudor, queen, was born in Greenwich, England 486 years ago.\n",
    "    Amalie Emmy Noether, mathematician, was born in Erlangen, Germany 137 years ago.\n",
    "    Aristotle , philosopher, was born in Stagira, Greece 2403 years ago.\n",
    "    Cleopatra (VII) Philopator, pharaoh, was born in Alexandria, Egypt 2031 years ago.\n",
    "\n",
    "(yes, there is an extra space after Aristotle, but let's not be too picky for now...)"
   ]
  },
  {
   "cell_type": "code",
   "execution_count": null,
   "metadata": {},
   "outputs": [],
   "source": []
  },
  {
   "cell_type": "markdown",
   "metadata": {},
   "source": [
    "b) Redo the solution to the previous problem, adjusting the formatting to something like\n",
    "\n",
    "    Vera Rubin,                 astronomer, was born in     Philadelphia,USA   91 years ago.            \n",
    "    Elizabeth (I) Tudor,        queen, was born in          Greenwich,England  486 years ago.           \n",
    "    Amalie Emmy Noether,        mathematician, was born in  Erlangen,Germany   137 years ago.           \n",
    "    Aristotle ,                 philosopher, was born in    Stagira,Greece     2403 years ago.          \n",
    "    Cleopatra (VII) Philopator, pharaoh, was born in        Alexandria,Egypt   2031 years ago.          \n",
    "\n",
    "***Hint:*** It may be easier to form some extra variables before you print, e.g.\n",
    "\n",
    "     location = city + \", \" + country\n",
    "     fullname = first + \" \" + last"
   ]
  },
  {
   "cell_type": "code",
   "execution_count": null,
   "metadata": {},
   "outputs": [],
   "source": []
  },
  {
   "cell_type": "markdown",
   "metadata": {},
   "source": [
    "# 3. File I/O\n",
    "\n",
    "Files are, essentially, long sequences of data stored by the operating system. We have already explored what the *file system* looks like under Linux, and you are probably familiar with the analogous system in the MacOS and Windows operating systems as well.\n",
    "\n",
    "We will now learn how to do I/O to files, an important task as files are the most common way to exchange information and to store information in a non-volatile form.\n",
    "\n",
    "We will be using functions which do \"formatted I/O\" -- that is, they interpret the data in the file as long strings of characters. \"Binary I/O\" is also possible, in which the data are returned as raw bit patterns, but this is a topic for later...\n",
    "\n",
    "On D2L, and in /home/p105a/lecture7 on phys-noether, there is a file with the name \"loremipsum.txt\". Download/copy it to your local directory now so that you can play with it in the following examples. The contents of the file are attributed to an unknown typesetter in the 15th century who is thought to have scrambled parts of Cicero's *De Finibus Bonorum et Malorum* (*On the Ends of Good and Evil*) for use in a type specimen book. Its basically nonsense, but it is often used a sample text.\n",
    "\n",
    "In Python, \"everything is an object\", and so there is a file object. We create one when we \"open\" a file.\n",
    "This means that the file is located, and a counter is set by the operating system to the beginnig of the file. When you read from or write to the file, this counter is adjusted so that subsequent operations occur where you would expect, at the end of where you last wrote or read.\n",
    "\n",
    "The synatx of the `open` function is `open( 'filename string' , 'X' )` where `X` is  \n",
    "`r` if you intend to read from the file  \n",
    "`w` if you wish to start writing to a new file  (WARNING: if the file exists, it will be overwritten!)  \n",
    "`a` if you wish to append to an existing file \n",
    "\n",
    "### Reading from a file\n",
    "\n",
    "To open 'loremipsum.txt' so we can read from it, we write"
   ]
  },
  {
   "cell_type": "code",
   "execution_count": null,
   "metadata": {},
   "outputs": [],
   "source": [
    "!ls  # check that the file is there"
   ]
  },
  {
   "cell_type": "code",
   "execution_count": null,
   "metadata": {},
   "outputs": [],
   "source": [
    "file = open(\"loremipsum.txt\", \"r\")"
   ]
  },
  {
   "cell_type": "markdown",
   "metadata": {},
   "source": [
    "The easiest way to read from a file is to use a `for` loop to read the file line-by-line. The file object acts in this way as if it was a list of strings. One difference, however, is that once you have accessed a line in this way, you can't go back (at least without knowing a lot more about files...)\n",
    "\n",
    "So, let's print out the file to the screen (warning: lots of lines of output!)"
   ]
  },
  {
   "cell_type": "code",
   "execution_count": null,
   "metadata": {},
   "outputs": [],
   "source": [
    "for line in file:\n",
    "    print(line)"
   ]
  },
  {
   "cell_type": "markdown",
   "metadata": {},
   "source": [
    "Now go back up an execute the previous cell again...\n",
    "\n",
    "You get no output! That counter maintained by the operating system, it was at the end of the file and we can't read further. To get the output again, you would have to re-open the file.\n",
    "\n",
    "So, do just that, and print out the file once more right now.\n",
    "\n",
    "Notice that the lines are double-spaced. That is because each line read from the file ends with the *newline character* which is written in Python as `\\n`. The `print` function also adds a newline to the end, so we get two lines per line in the file.\n",
    "\n",
    "*Note:* while we write the newline character with *two* symbols, \\n, it is in fact *one* character. This is because the newline character is not a *printable* character.\n",
    "\n",
    "We could, of course, just use `print(line, end=\"\")`, but instead we will strip the newline off the end of each line as we read it. The `rstrip` function strips the given characters from the end of a line.\n",
    "\n",
    "Also, we will use the `file.readline()` method to read a line from the file so that we don't have to read the whole file\n",
    "yet again.\n",
    "\n",
    "With this, the first 20 lines are"
   ]
  },
  {
   "cell_type": "code",
   "execution_count": null,
   "metadata": {},
   "outputs": [],
   "source": [
    "file = open('loremipsum.txt','r')\n",
    "for i in range(20):\n",
    "    line = file.readline()\n",
    "    line = line.rstrip('\\n')  # just removes off of the back end (reverse strip)\n",
    "    print(line)"
   ]
  },
  {
   "cell_type": "markdown",
   "metadata": {},
   "source": [
    "### Exercise 3\n",
    "\n",
    "Count the number of lines, the number of paragraphs, the number of words, and the number of characters in loremipsum.txt.\n",
    "The algorithm will look something like this:\n",
    "\n",
    "    * Create a file object by opening the file for reading\n",
    "    * Go through the file one line at a time\n",
    "    * for each line, create a list from the `split` function, containing the words in the line.\n",
    "    * The length of that list will tell you how many words are in the line.\n",
    "    * Try to come up with simple ways to count lines, characters, and paragraphs\n",
    "    \n",
    "Format your output so that it looks like this (which is also the correct answer):\n",
    "\n",
    "    contents of file 'loremipsum.txt':\n",
    "    number of characters: 3216\n",
    "         number of words: 478\n",
    "         number of lines: 38\n",
    "    number of paragraphs: 4\n",
    "    \n",
    "Just to make it useful later, make this into a function called `countFile` which takes the filename (as a string) as an argument. You should then just be able to write  \n",
    "\n",
    "    countFile('loremipsum.txt')\n",
    "    \n",
    "to find the answer.\n",
    "\n",
    "***Hint:*** Programming something complicated is best attacked by writing a simple piece of code, and then modifying that code to add additional features.\n",
    "\n",
    "So, start small and build up:\n",
    "\n",
    "* First write a function which just counts the number of lines in the file, and make sure it works correctly, but don't bother with formatting the output correctly -- just print the answer.\n",
    " * The argument to the function will be the filename to give to the `open` function\n",
    " * Create a file object by opening the file for reading\n",
    " * Go through the file one line at a time using a `for` loop\n",
    " * Count the number of times you read a line\n",
    " * When the loop terminates, print out the number of lines you counted.  \n",
    " \n",
    " \n",
    "* Next, add code to count the number of characters, and make sure that works correctly.\n",
    " * Each line is a character string -- how to you find the length of a string?\n",
    " \n",
    " \n",
    "* Next, add code to count the number of paragraphs\n",
    " * How can you tell a paragraph has ended? What marks the end of a paragraph in this file?\n",
    " * Do you have to adjust your count to include the first (or last) paragraph?\n",
    " \n",
    " \n",
    "* Next, add code to count the number of words\n",
    " * Each time you read a line, create a list from it using the `split` function (splitting on whitespace, the default)\n",
    " * The length of the list will tell you the number of words in that line.\n",
    " \n",
    " \n",
    "* Finally, once you have all of the code working, make it look nice by properly formatting the output, using the tools we learned above.\n"
   ]
  },
  {
   "cell_type": "code",
   "execution_count": null,
   "metadata": {},
   "outputs": [],
   "source": []
  },
  {
   "cell_type": "markdown",
   "metadata": {},
   "source": [
    "### Writing to a file\n",
    "\n",
    "Now its time to write to a file. First, we open a new file for writing with a statement like  \n",
    "\n",
    "    wfile = open('newfile.txt','w')"
   ]
  },
  {
   "cell_type": "markdown",
   "metadata": {},
   "source": [
    "Writing uses -- you guessed it! -- the `write` method. This works just as `print` does, but it does *not* add a newline at the end.\n",
    "\n",
    "One more thing about writing to a file... You MUST `close` the file after you have finished writing to ensure that\n",
    "all of the data you have written is actually written to the disk. If you don't, you risk having the last part of the\n",
    "data end up missing.\n",
    "\n",
    "Let's just try copying the first line of every paragraph to a our new file"
   ]
  },
  {
   "cell_type": "code",
   "execution_count": null,
   "metadata": {},
   "outputs": [],
   "source": [
    "infile = open('loremipsum.txt','r')    # open file for reading \n",
    "outfile = open('newfile.txt','w')      # open file for writing\n",
    "\n",
    "# now go though the rest of the file, find the start of the next paragraph, and write it out\n",
    "\n",
    "previousBlankLine = True               # create a \"flag\" to tell us the previous line was empty\n",
    "                                       # starting with True \"tricks\" the algorithm into writing the first line\n",
    "for line in infile:\n",
    "\n",
    "    if len(line) == 1:                 # check to see if a line has only a newline character\n",
    "        previousBlankLine = True       # if so, set a \"flag\" which says we saw an empty line\n",
    "        \n",
    "    else:                              # if the line is not empty\n",
    "        if previousBlankLine:          # and the previous line was empty\n",
    "            outfile.write(line)        # write out the line\n",
    "                                       # it already has a newline at the end\n",
    "            \n",
    "            previousBlankLine = False  # and set the flag back to false to look for the next one\n",
    "\n",
    "outfile.close()                        # close the output file (important!)\n",
    "infile.close()                         # close the input file (good habit to get into)"
   ]
  },
  {
   "cell_type": "markdown",
   "metadata": {},
   "source": [
    "Let's check to see we wrote out five lines, using your `countFile` function:\n",
    "\n",
    "    countFile('newfile.txt')\n",
    "    contents of file 'newfile.txt:\n",
    "    number of characters: 498\n",
    "         number of words: 78\n",
    "         number of lines: 5\n",
    "    number of paragraphs: 1"
   ]
  },
  {
   "cell_type": "code",
   "execution_count": null,
   "metadata": {},
   "outputs": [],
   "source": [
    "countFile('newfile.txt')"
   ]
  },
  {
   "cell_type": "markdown",
   "metadata": {},
   "source": [
    "We mentioned that you should close files when you are done with them. This is so important, and so often a cause of grief, that the Python language has a way of making sure that you don't forget.\n",
    "\n",
    "We can open a file with the `with` statement, and as long as we indent whatever we are going to do with the file,\n",
    "the file will remain open. As soon as the code block ends, however, the file is closed automagically!\n",
    "\n",
    "Thus, we have"
   ]
  },
  {
   "cell_type": "code",
   "execution_count": null,
   "metadata": {},
   "outputs": [],
   "source": [
    "with open('myfile','w') as outfile:\n",
    "    outfile.write('yessir, it is going to be closed for certain!\\n') # notice we need the newline, '\\n'\n",
    "    outfile.write('no doubt about it!\\n')\n",
    "    \n",
    "print(\"The file has now been closed!\")"
   ]
  },
  {
   "cell_type": "markdown",
   "metadata": {},
   "source": [
    "### Exercise 4\n",
    "\n",
    "In preparation for making some fancy plots next class, let's read in a typical data file. In this case, it contains\n",
    "data which shows that the expansion rate of the Universe is accelerating, providing evidence for the existance of what is now called *Dark Energy*. These are measures of the distance to (the \"distance modulus\") and the velocity of recession of (the \"redshift\") 584 Type Ia supernovae at large distances from the Milky Way.\n",
    "\n",
    "Download/copy the file 'SCPUnion2.1_mu_vs_z.txt' into your local directory.\n",
    "\n",
    "In a terminal, go to that directory and use the `less` command in the shell to have a look at the first lines of the file. You will notice:\n",
    "\n",
    "* A number of lines beginning with `#` which constitute the 'header' of the file -- the description of the file's contents.\n",
    "* From these, we see that the columns of data (separated by spaces, we notice) are\n",
    "  * The name of the supernova (for our purposes, we don't care about the name)\n",
    "  * The redshift\n",
    "  * The distance modulus\n",
    "  * The error in the distance modulus\n",
    "  * Something else we don't care about\n",
    "  \n",
    "Things we will have to do:\n",
    " * Open the file for reading\n",
    " * go thought the lines one-by-one\n",
    " * Skip the lines beginning with `#` as they don't contain data\n",
    " * For each line, split (on spaces) the line into a list of 5 entries corresponding to the 5 columns\n",
    " * convert the 2nd, 3rd, and 4th entries into floats\n",
    " * append each to a list, one we will call 'z' for redshift, one 'dm' for distance modulus, and one 'dme' for the error in distance modulus\n",
    "\n",
    "We'll then make a preliminary plot as a sanity check to make sure we did all of this correctly. Next week, we'll make a publication-quality plot for a journal.\n"
   ]
  },
  {
   "cell_type": "code",
   "execution_count": null,
   "metadata": {},
   "outputs": [],
   "source": []
  },
  {
   "cell_type": "markdown",
   "metadata": {},
   "source": [
    "Reading from files organized as columns of data is such a common need that numpy has a function to make it easier, called `genfromtxt`; typically, it is used as\n",
    "\n",
    "     stuff = genfromtxt('filename', dtype=(float, float, int, etc), names=('col1', 'x', 'y', etc), delimiter=',')\n",
    "\n",
    "where the `dtype` argument lists the data type you want for each of the columns, and `delimiter` is the character(s) which separate columns of data (just as we have used for `split` above). If you don't specify `dtype`, it will try to guess the appropriate data type (and is often successful in doing so). There are many other possible arguments to get finer control over how it converts the file, but often you wont need them.\n",
    "\n",
    "This function does for us just what we have done above. It first first loops through the file, reading the lines into a list of strings. It then goes through this list, splitting each line on the \"delimiter\" provided, and changing the data type of each column according to the `dtype` argument or its best guess.\n",
    "\n",
    "`genfromtxt` returns what is known as a numpy *structured array*. Structured arrays are very flexible things and somewhat beyond the scope of this course, but in this case it means that you can use the column name you gave `genfromtxt` as the index to the array and get the vector of data for that column.\n",
    "\n",
    "Our previous example, using `genfromtxt`, would need the data types `dtype=(\"U20\",float,float,float)` where \"U20\" means a character string at most 20 in length. \n"
   ]
  },
  {
   "cell_type": "code",
   "execution_count": null,
   "metadata": {},
   "outputs": [],
   "source": [
    "plt.rcParams[\"figure.figsize\"]=20,12                       # make the plot bigger...\n",
    "\n",
    "stuff = np.genfromtxt('SCPUnion2.1_mu_vs_z.txt',           # the filename\n",
    "                      dtype=(\"U20\", float, float, float),  # the data types for the first 4 columns (all we want)\n",
    "                      names=('name','z','dm','dme'))       # the column names to use as indices for stuff\n",
    "\n",
    "z = stuff['z']                                             # create aliases which are easier to type!\n",
    "dm = stuff['dm']\n",
    "dme = stuff['dme']\n",
    "\n",
    "plt.errorbar(z,dm,yerr=dme,fmt='b.')\n",
    "plt.xlabel('redhift', fontsize=20)\n",
    "plt.ylabel('distance modulus', fontsize=20)"
   ]
  }
 ],
 "metadata": {
  "kernelspec": {
   "display_name": "Python 3",
   "language": "python",
   "name": "python3"
  },
  "language_info": {
   "codemirror_mode": {
    "name": "ipython",
    "version": 3
   },
   "file_extension": ".py",
   "mimetype": "text/x-python",
   "name": "python",
   "nbconvert_exporter": "python",
   "pygments_lexer": "ipython3",
   "version": "3.7.7"
  }
 },
 "nbformat": 4,
 "nbformat_minor": 2
}
